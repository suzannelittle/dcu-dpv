{
  "nbformat": 4,
  "nbformat_minor": 0,
  "metadata": {
    "colab": {
      "provenance": [],
      "include_colab_link": true
    },
    "kernelspec": {
      "name": "python3",
      "display_name": "Python 3"
    }
  },
  "cells": [
    {
      "cell_type": "markdown",
      "metadata": {
        "id": "view-in-github",
        "colab_type": "text"
      },
      "source": [
        "<a href=\"https://colab.research.google.com/github/suzannelittle/dcu-dpv/blob/main/titanic_missingvalues.ipynb\" target=\"_parent\"><img src=\"https://colab.research.google.com/assets/colab-badge.svg\" alt=\"Open In Colab\"/></a>"
      ]
    },
    {
      "cell_type": "markdown",
      "metadata": {
        "id": "iNB0_z0RswMo"
      },
      "source": [
        "RMS Titanic was a passenger ship built in the United Kingdom which sunk in the early hours of 15th April, 1912 following a collision with an iceberg in the North Atlantic Ocean. It was the ship's maiden voyage, travelling from Southampton, UK to New York City, USA with stops along the way in Cherbourg, France and Queenstown (now Cobh), Ireland.\n",
        "\n",
        "The purpose of this notebook is to explore the dataset of all passengers on board the doomed liner, making observations about different aspects of it and hopefully obtaining interesting insights along the way. This dataset is available online and I have downloaded it as a CSV file.\n",
        "\n",
        "Let's firstly import <i>matplotlib.pyplot</i> and <i>seaborn</i> since we will be creating graphs from the dataset which will require these tools:"
      ]
    },
    {
      "cell_type": "code",
      "metadata": {
        "id": "BnOu844Yso4X"
      },
      "source": [
        "import matplotlib.pyplot as plt\n",
        "\n",
        "# Must also include the following so that matplotlib graphs will display properly in Jupyter notebook cells\n",
        "%matplotlib inline\n",
        "\n",
        "import seaborn as sns\n",
        "\n",
        "# Set the context to 'talk' now so that all graphs created will appear reasonably big (see seaborn notebook for explanation of contexts)\n",
        "sns.set_context(\"talk\")\n",
        "\n",
        "import pandas as pd\n",
        "import numpy as np"
      ],
      "execution_count": null,
      "outputs": []
    },
    {
      "cell_type": "markdown",
      "metadata": {
        "id": "Deli8KtBs2eH"
      },
      "source": [
        "Before we begin, here is a brief overview of the columns that exist in the Titanic dataset:\n",
        "\n",
        "<table>\n",
        "<tr><th><i>Column Name</i></th><th><i>Description</i></th></tr>\n",
        "<tr><th><b>Class</b></th><td>Which class ticket the passenger held (1 = First, 2 = Second, 3 = Third).</td></tr>\n",
        "<tr><th><b>Survived</b></th><td>Did the passenger survive the Titanic's sinking? (1 = Yes, 0 = No)</td></tr>\n",
        "<tr><th><b>Name</b></th><td>The passenger's full name and title.</td></tr>\n",
        "<tr><th><b>Age</b></th><td>How old the passenger was at the time of the Titanic's sinking.</td></tr>\n",
        "<tr><th><b>Sibling or Spouse</b></th><td>Number of passenger's siblings or spouses aboard, if any.</td></tr>\n",
        "<tr><th><b>Parents or Children</b></th><td>Number of passenger's parents or children aboard, if any.</td></tr>\n",
        "<tr><th><b>Ticket No.</b></th><td>Number on this passenger's ticket.</td></tr>\n",
        "<tr><th><b>Fare</b></th><td>The amount (in pounds) that this passenger's ticket cost.</td></tr>\n",
        "<tr><th><b>Cabin</b></th><td>The passenger's cabin on the Titanic.</td></tr>\n",
        "<tr><th><b>Embarked</b></th><td>Place of embarkment (S = Southampton, Q = Queenstown [now Cobh], C = Cherbourg)</td></tr>\n",
        "<tr><th><b>Boat</b></th><td>The number/letter of the lifeboat the passenger escaped the ship on, if any.</td></tr>\n",
        "<tr><th><b>Body</b></th><td>Body identification number if passenger died and body was recovered successfully.</td></tr>\n",
        "<tr><th><b>Home/Dest</b></th><td>The passenger's home/destination.</td></tr>\n",
        "</table>\n",
        "\n",
        "Now we will import <i>pandas</i> and create a DataFrame object from the CSV file which holds the data."
      ]
    },
    {
      "cell_type": "code",
      "metadata": {
        "id": "9OnwBiC-s0N4"
      },
      "source": [
        "# Read in CSV file to a DataFrame object\n",
        "online_csv = \"https://raw.githubusercontent.com/datasciencedojo/datasets/master/titanic.csv\"\n",
        "df = pd.read_csv(online_csv)\n",
        "# Display first 10 rows\n",
        "df.head(10)"
      ],
      "execution_count": null,
      "outputs": []
    },
    {
      "cell_type": "code",
      "metadata": {
        "id": "wzx9IEknviM0"
      },
      "source": [
        "df.info()"
      ],
      "execution_count": null,
      "outputs": []
    },
    {
      "cell_type": "markdown",
      "metadata": {
        "id": "-mi4TxNItaV9"
      },
      "source": [
        "We can already see in the first 10 rows that there are \"missing\" values. In the output from info() you can see that some columns don't have 891 entries. How many missing values are there?"
      ]
    },
    {
      "cell_type": "code",
      "metadata": {
        "id": "HTNk4rw4tW-v"
      },
      "source": [
        "df.isnull().sum()"
      ],
      "execution_count": null,
      "outputs": []
    },
    {
      "cell_type": "markdown",
      "metadata": {
        "id": "Jo8Tpkqct34N"
      },
      "source": [
        "So we can see that there are many missing values for Age, Cabin and two for Embarked.    \n",
        "\n",
        "This summary is generated using two functions:\n",
        "  * Pandas [dataframe.isnull()](https://pandas.pydata.org/pandas-docs/version/0.23.4/generated/pandas.isnull.html)    \n",
        "  * Pandas [dataframe.sum()](https://pandas.pydata.org/pandas-docs/stable/generated/pandas.DataFrame.sum.html)    "
      ]
    },
    {
      "cell_type": "markdown",
      "metadata": {
        "id": "Wxl2hTMCufiu"
      },
      "source": []
    },
    {
      "cell_type": "markdown",
      "metadata": {
        "id": "TfgZblFKuwMN"
      },
      "source": [
        "NaN is a special value, represented by the numpy object np.nan. Try the following ...    "
      ]
    },
    {
      "cell_type": "code",
      "metadata": {
        "id": "C2LIViHtu8N1"
      },
      "source": [
        "type(np.nan)"
      ],
      "execution_count": null,
      "outputs": []
    },
    {
      "cell_type": "code",
      "metadata": {
        "id": "MI7-5Pu_t2Mf"
      },
      "source": [
        "np.nan == np.nan"
      ],
      "execution_count": null,
      "outputs": []
    },
    {
      "cell_type": "code",
      "metadata": {
        "id": "6wfCgvf7ukSx"
      },
      "source": [
        "None == None"
      ],
      "execution_count": null,
      "outputs": []
    },
    {
      "cell_type": "code",
      "metadata": {
        "id": "gKjG4-kuutxW"
      },
      "source": [
        "np.nan == None"
      ],
      "execution_count": null,
      "outputs": []
    },
    {
      "cell_type": "markdown",
      "metadata": {
        "id": "YrOKjfpQvT79"
      },
      "source": [
        "Calculate the average age of all Titanic passengers."
      ]
    },
    {
      "cell_type": "code",
      "metadata": {
        "id": "GXaeh9opuvZW"
      },
      "source": [
        "df['Age'].mean()"
      ],
      "execution_count": null,
      "outputs": []
    },
    {
      "cell_type": "markdown",
      "metadata": {
        "id": "dQ4i7BXPv-vU"
      },
      "source": [
        "What happens to the np.NaN values? What if you use [fillna](https://pandas.pydata.org/pandas-docs/stable/generated/pandas.DataFrame.fillna.html) to \"correct\" the missing values? Is the following code a \"good idea\"?"
      ]
    },
    {
      "cell_type": "code",
      "metadata": {
        "id": "geVzqbtvvY1_"
      },
      "source": [
        "print(df['Age'].fillna(0).mean())\n",
        "print(df['Age'].mean())"
      ],
      "execution_count": null,
      "outputs": []
    },
    {
      "cell_type": "markdown",
      "source": [
        "Let's make some simple graphs to explore the data"
      ],
      "metadata": {
        "id": "pweqIdciRs7y"
      }
    },
    {
      "cell_type": "markdown",
      "source": [
        "**Histograms**\n",
        "\n",
        "Let's begin by exploring the survival rates based on age on a histogram. We will use the `plt.hist()` function.\n",
        "\n",
        "Remember that `plt` was the short name we assigned matplotlib.pyplot when we imported it.\n",
        "\n",
        "`plt.hist()` is used to create histograms. You need to select one column to create a histogram."
      ],
      "metadata": {
        "id": "cRXFoSJxR-QK"
      }
    },
    {
      "cell_type": "code",
      "source": [
        "plt.hist(df[df[\"Survived\"] == 1][\"Age\"], bins = 20)"
      ],
      "metadata": {
        "id": "5RKUxmWWRvWI"
      },
      "execution_count": null,
      "outputs": []
    },
    {
      "cell_type": "markdown",
      "source": [
        "**A line graph**\n",
        "\n",
        "The distribution of age across the 3 passenger classes (Pclass)"
      ],
      "metadata": {
        "id": "6eYHv-9ES9Na"
      }
    },
    {
      "cell_type": "code",
      "source": [
        "for x in [1,2,3]:    ## for 3 classes\n",
        "    df.Age[df.Pclass == x].plot(kind=\"kde\")\n",
        "plt.title(\"Age wrt Pclass\")\n",
        "plt.legend((\"1st\",\"2nd\",\"3rd\"))"
      ],
      "metadata": {
        "id": "EhxgcgMsSN7H"
      },
      "execution_count": null,
      "outputs": []
    },
    {
      "cell_type": "code",
      "source": [],
      "metadata": {
        "id": "6C7HFfC9S19y"
      },
      "execution_count": null,
      "outputs": []
    }
  ]
}